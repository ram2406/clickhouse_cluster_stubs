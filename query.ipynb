{
 "cells": [
  {
   "cell_type": "code",
   "execution_count": 14,
   "metadata": {},
   "outputs": [
    {
     "data": {
      "text/html": [
       "<div>\n",
       "<style scoped>\n",
       "    .dataframe tbody tr th:only-of-type {\n",
       "        vertical-align: middle;\n",
       "    }\n",
       "\n",
       "    .dataframe tbody tr th {\n",
       "        vertical-align: top;\n",
       "    }\n",
       "\n",
       "    .dataframe thead th {\n",
       "        text-align: right;\n",
       "    }\n",
       "</style>\n",
       "<table border=\"1\" class=\"dataframe\">\n",
       "  <thead>\n",
       "    <tr style=\"text-align: right;\">\n",
       "      <th></th>\n",
       "      <th>1</th>\n",
       "    </tr>\n",
       "  </thead>\n",
       "  <tbody>\n",
       "    <tr>\n",
       "      <th>0</th>\n",
       "      <td>1</td>\n",
       "    </tr>\n",
       "  </tbody>\n",
       "</table>\n",
       "</div>"
      ],
      "text/plain": [
       "   1\n",
       "0  1"
      ]
     },
     "execution_count": 14,
     "metadata": {},
     "output_type": "execute_result"
    }
   ],
   "source": [
    "import clickhouse_driver as ch\n",
    "\n",
    "c1 = ch.Client('localhost', 29000)\n",
    "c1.query_dataframe('select 1')\n",
    "\n",
    "c2 = ch.Client('localhost', 19000)\n",
    "c2.query_dataframe('select 1')"
   ]
  },
  {
   "cell_type": "code",
   "execution_count": 12,
   "metadata": {},
   "outputs": [],
   "source": [
    "data1 = [ { 'ID': r, 'Name': f'test{r}' } for r in range(1,    1000)]\n",
    "data2 = [ { 'ID': r, 'Name': f'test{r}' } for r in range(1001, 2000)]"
   ]
  },
  {
   "cell_type": "code",
   "execution_count": 16,
   "metadata": {},
   "outputs": [
    {
     "ename": "ServerException",
     "evalue": "Code: 481.\nDB::ErrnoException. DB::ErrnoException: Cannot set modification time for file: /var/lib/clickhouse/store/6e5/6e5e8992-2fac-4eb6-b5d7-e7087858f3df/tmp_insert_all_2_2_0/, errno: 1, strerror: Operation not permitted. Stack trace:\n\n0. DB::Exception::Exception(DB::Exception::MessageMasked&&, int, bool) @ 0xe294735 in /usr/bin/clickhouse\n1. ? @ 0xe295473 in /usr/bin/clickhouse\n2. DB::throwFromErrnoWithPath(String const&, String const&, int, int) @ 0xe2957b1 in /usr/bin/clickhouse\n3. FS::setModificationTime(String const&, long) @ 0xe2d78dc in /usr/bin/clickhouse\n4. DB::DiskLocal::setLastModified(String const&, Poco::Timestamp const&) @ 0x12d49ef6 in /usr/bin/clickhouse\n5. DB::DataPartStorageOnDiskBase::rename(String, String, Poco::Logger*, bool, bool) @ 0x145e0572 in /usr/bin/clickhouse\n6. DB::IMergeTreeDataPart::renameTo(String const&, bool) @ 0x1460e4ac in /usr/bin/clickhouse\n7. DB::MergeTreeData::preparePartForCommit(std::shared_ptr<DB::IMergeTreeDataPart>&, DB::MergeTreeData::Transaction&, bool) @ 0x146ab4ae in /usr/bin/clickhouse\n8. DB::MergeTreeData::renameTempPartAndReplaceImpl(std::shared_ptr<DB::IMergeTreeDataPart>&, DB::MergeTreeData::Transaction&, std::unique_lock<std::mutex>&, std::vector<std::shared_ptr<DB::IMergeTreeDataPart const>, std::allocator<std::shared_ptr<DB::IMergeTreeDataPart const>>>*) @ 0x146acf7b in /usr/bin/clickhouse\n9. DB::MergeTreeData::renameTempPartAndAdd(std::shared_ptr<DB::IMergeTreeDataPart>&, DB::MergeTreeData::Transaction&, std::unique_lock<std::mutex>&) @ 0x146ad745 in /usr/bin/clickhouse\n10. ? @ 0x1499a323 in /usr/bin/clickhouse\n11. DB::ReplicatedMergeTreeSinkImpl<false>::commitPart(std::shared_ptr<DB::ZooKeeperWithFaultInjection> const&, std::shared_ptr<DB::IMergeTreeDataPart>&, String const&, unsigned long, bool) @ 0x14988948 in /usr/bin/clickhouse\n12. DB::ReplicatedMergeTreeSinkImpl<false>::finishDelayedChunk(std::shared_ptr<DB::ZooKeeperWithFaultInjection> const&) @ 0x1498549e in /usr/bin/clickhouse\n13. DB::ReplicatedMergeTreeSinkImpl<false>::consume(DB::Chunk) @ 0x14984654 in /usr/bin/clickhouse\n14. DB::SinkToStorage::onConsume(DB::Chunk) @ 0x14e59c82 in /usr/bin/clickhouse\n15. ? @ 0x14d89deb in /usr/bin/clickhouse\n16. ? @ 0x14d89b39 in /usr/bin/clickhouse\n17. DB::ExceptionKeepingTransform::work() @ 0x14d8941f in /usr/bin/clickhouse\n18. DB::ExecutionThreadContext::executeTask() @ 0x14ba37ea in /usr/bin/clickhouse\n19. DB::PipelineExecutor::executeStepImpl(unsigned long, std::atomic<bool>*) @ 0x14b9885b in /usr/bin/clickhouse\n20. DB::PipelineExecutor::executeStep(std::atomic<bool>*) @ 0x14b97c48 in /usr/bin/clickhouse\n21. DB::TCPHandler::processInsertQuery() @ 0x14b477b8 in /usr/bin/clickhouse\n22. DB::TCPHandler::runImpl() @ 0x14b3ebd8 in /usr/bin/clickhouse\n23. DB::TCPHandler::run() @ 0x14b540f9 in /usr/bin/clickhouse\n24. Poco::Net::TCPServerConnection::start() @ 0x17a9c934 in /usr/bin/clickhouse\n25. Poco::Net::TCPServerDispatcher::run() @ 0x17a9db5b in /usr/bin/clickhouse\n26. Poco::PooledThread::run() @ 0x17c253e7 in /usr/bin/clickhouse\n27. Poco::ThreadImpl::runnableEntry(void*) @ 0x17c22e1d in /usr/bin/clickhouse\n28. ? @ 0x7f92b7ad1609 in ?\n29. clone @ 0x7f92b79f6133 in ?\n",
     "output_type": "error",
     "traceback": [
      "\u001b[0;31m---------------------------------------------------------------------------\u001b[0m",
      "\u001b[0;31mServerException\u001b[0m                           Traceback (most recent call last)",
      "Cell \u001b[0;32mIn[16], line 1\u001b[0m\n\u001b[0;32m----> 1\u001b[0m c1\u001b[39m.\u001b[39;49mexecute(\u001b[39m'\u001b[39;49m\u001b[39minsert into dr.replicated_example values \u001b[39;49m\u001b[39m'\u001b[39;49m, params\u001b[39m=\u001b[39;49mdata1)\n",
      "File \u001b[0;32m~/.local/lib/python3.10/site-packages/clickhouse_driver/client.py:367\u001b[0m, in \u001b[0;36mClient.execute\u001b[0;34m(self, query, params, with_column_types, external_tables, query_id, settings, types_check, columnar)\u001b[0m\n\u001b[1;32m    364\u001b[0m is_insert \u001b[39m=\u001b[39m \u001b[39misinstance\u001b[39m(params, (\u001b[39mlist\u001b[39m, \u001b[39mtuple\u001b[39m, types\u001b[39m.\u001b[39mGeneratorType))\n\u001b[1;32m    366\u001b[0m \u001b[39mif\u001b[39;00m is_insert:\n\u001b[0;32m--> 367\u001b[0m     rv \u001b[39m=\u001b[39m \u001b[39mself\u001b[39;49m\u001b[39m.\u001b[39;49mprocess_insert_query(\n\u001b[1;32m    368\u001b[0m         query, params, external_tables\u001b[39m=\u001b[39;49mexternal_tables,\n\u001b[1;32m    369\u001b[0m         query_id\u001b[39m=\u001b[39;49mquery_id, types_check\u001b[39m=\u001b[39;49mtypes_check,\n\u001b[1;32m    370\u001b[0m         columnar\u001b[39m=\u001b[39;49mcolumnar\n\u001b[1;32m    371\u001b[0m     )\n\u001b[1;32m    372\u001b[0m \u001b[39melse\u001b[39;00m:\n\u001b[1;32m    373\u001b[0m     rv \u001b[39m=\u001b[39m \u001b[39mself\u001b[39m\u001b[39m.\u001b[39mprocess_ordinary_query(\n\u001b[1;32m    374\u001b[0m         query, params\u001b[39m=\u001b[39mparams, with_column_types\u001b[39m=\u001b[39mwith_column_types,\n\u001b[1;32m    375\u001b[0m         external_tables\u001b[39m=\u001b[39mexternal_tables,\n\u001b[1;32m    376\u001b[0m         query_id\u001b[39m=\u001b[39mquery_id, types_check\u001b[39m=\u001b[39mtypes_check,\n\u001b[1;32m    377\u001b[0m         columnar\u001b[39m=\u001b[39mcolumnar\n\u001b[1;32m    378\u001b[0m     )\n",
      "File \u001b[0;32m~/.local/lib/python3.10/site-packages/clickhouse_driver/client.py:600\u001b[0m, in \u001b[0;36mClient.process_insert_query\u001b[0;34m(self, query_without_data, data, external_tables, query_id, types_check, columnar)\u001b[0m\n\u001b[1;32m    597\u001b[0m \u001b[39mif\u001b[39;00m sample_block:\n\u001b[1;32m    598\u001b[0m     rv \u001b[39m=\u001b[39m \u001b[39mself\u001b[39m\u001b[39m.\u001b[39msend_data(sample_block, data,\n\u001b[1;32m    599\u001b[0m                         types_check\u001b[39m=\u001b[39mtypes_check, columnar\u001b[39m=\u001b[39mcolumnar)\n\u001b[0;32m--> 600\u001b[0m     \u001b[39mself\u001b[39;49m\u001b[39m.\u001b[39;49mreceive_end_of_query()\n\u001b[1;32m    601\u001b[0m     \u001b[39mreturn\u001b[39;00m rv\n",
      "File \u001b[0;32m~/.local/lib/python3.10/site-packages/clickhouse_driver/client.py:669\u001b[0m, in \u001b[0;36mClient.receive_end_of_query\u001b[0;34m(self)\u001b[0m\n\u001b[1;32m    666\u001b[0m     \u001b[39mcontinue\u001b[39;00m\n\u001b[1;32m    668\u001b[0m \u001b[39melif\u001b[39;00m packet\u001b[39m.\u001b[39mtype \u001b[39m==\u001b[39m ServerPacketTypes\u001b[39m.\u001b[39mEXCEPTION:\n\u001b[0;32m--> 669\u001b[0m     \u001b[39mraise\u001b[39;00m packet\u001b[39m.\u001b[39mexception\n\u001b[1;32m    671\u001b[0m \u001b[39melif\u001b[39;00m packet\u001b[39m.\u001b[39mtype \u001b[39m==\u001b[39m ServerPacketTypes\u001b[39m.\u001b[39mLOG:\n\u001b[1;32m    672\u001b[0m     log_block(packet\u001b[39m.\u001b[39mblock)\n",
      "\u001b[0;31mServerException\u001b[0m: Code: 481.\nDB::ErrnoException. DB::ErrnoException: Cannot set modification time for file: /var/lib/clickhouse/store/6e5/6e5e8992-2fac-4eb6-b5d7-e7087858f3df/tmp_insert_all_2_2_0/, errno: 1, strerror: Operation not permitted. Stack trace:\n\n0. DB::Exception::Exception(DB::Exception::MessageMasked&&, int, bool) @ 0xe294735 in /usr/bin/clickhouse\n1. ? @ 0xe295473 in /usr/bin/clickhouse\n2. DB::throwFromErrnoWithPath(String const&, String const&, int, int) @ 0xe2957b1 in /usr/bin/clickhouse\n3. FS::setModificationTime(String const&, long) @ 0xe2d78dc in /usr/bin/clickhouse\n4. DB::DiskLocal::setLastModified(String const&, Poco::Timestamp const&) @ 0x12d49ef6 in /usr/bin/clickhouse\n5. DB::DataPartStorageOnDiskBase::rename(String, String, Poco::Logger*, bool, bool) @ 0x145e0572 in /usr/bin/clickhouse\n6. DB::IMergeTreeDataPart::renameTo(String const&, bool) @ 0x1460e4ac in /usr/bin/clickhouse\n7. DB::MergeTreeData::preparePartForCommit(std::shared_ptr<DB::IMergeTreeDataPart>&, DB::MergeTreeData::Transaction&, bool) @ 0x146ab4ae in /usr/bin/clickhouse\n8. DB::MergeTreeData::renameTempPartAndReplaceImpl(std::shared_ptr<DB::IMergeTreeDataPart>&, DB::MergeTreeData::Transaction&, std::unique_lock<std::mutex>&, std::vector<std::shared_ptr<DB::IMergeTreeDataPart const>, std::allocator<std::shared_ptr<DB::IMergeTreeDataPart const>>>*) @ 0x146acf7b in /usr/bin/clickhouse\n9. DB::MergeTreeData::renameTempPartAndAdd(std::shared_ptr<DB::IMergeTreeDataPart>&, DB::MergeTreeData::Transaction&, std::unique_lock<std::mutex>&) @ 0x146ad745 in /usr/bin/clickhouse\n10. ? @ 0x1499a323 in /usr/bin/clickhouse\n11. DB::ReplicatedMergeTreeSinkImpl<false>::commitPart(std::shared_ptr<DB::ZooKeeperWithFaultInjection> const&, std::shared_ptr<DB::IMergeTreeDataPart>&, String const&, unsigned long, bool) @ 0x14988948 in /usr/bin/clickhouse\n12. DB::ReplicatedMergeTreeSinkImpl<false>::finishDelayedChunk(std::shared_ptr<DB::ZooKeeperWithFaultInjection> const&) @ 0x1498549e in /usr/bin/clickhouse\n13. DB::ReplicatedMergeTreeSinkImpl<false>::consume(DB::Chunk) @ 0x14984654 in /usr/bin/clickhouse\n14. DB::SinkToStorage::onConsume(DB::Chunk) @ 0x14e59c82 in /usr/bin/clickhouse\n15. ? @ 0x14d89deb in /usr/bin/clickhouse\n16. ? @ 0x14d89b39 in /usr/bin/clickhouse\n17. DB::ExceptionKeepingTransform::work() @ 0x14d8941f in /usr/bin/clickhouse\n18. DB::ExecutionThreadContext::executeTask() @ 0x14ba37ea in /usr/bin/clickhouse\n19. DB::PipelineExecutor::executeStepImpl(unsigned long, std::atomic<bool>*) @ 0x14b9885b in /usr/bin/clickhouse\n20. DB::PipelineExecutor::executeStep(std::atomic<bool>*) @ 0x14b97c48 in /usr/bin/clickhouse\n21. DB::TCPHandler::processInsertQuery() @ 0x14b477b8 in /usr/bin/clickhouse\n22. DB::TCPHandler::runImpl() @ 0x14b3ebd8 in /usr/bin/clickhouse\n23. DB::TCPHandler::run() @ 0x14b540f9 in /usr/bin/clickhouse\n24. Poco::Net::TCPServerConnection::start() @ 0x17a9c934 in /usr/bin/clickhouse\n25. Poco::Net::TCPServerDispatcher::run() @ 0x17a9db5b in /usr/bin/clickhouse\n26. Poco::PooledThread::run() @ 0x17c253e7 in /usr/bin/clickhouse\n27. Poco::ThreadImpl::runnableEntry(void*) @ 0x17c22e1d in /usr/bin/clickhouse\n28. ? @ 0x7f92b7ad1609 in ?\n29. clone @ 0x7f92b79f6133 in ?\n"
     ]
    }
   ],
   "source": [
    "c1.execute('insert into dr.replicated_example values ', params=data1)"
   ]
  }
 ],
 "metadata": {
  "kernelspec": {
   "display_name": "my-env2",
   "language": "python",
   "name": "python3"
  },
  "language_info": {
   "codemirror_mode": {
    "name": "ipython",
    "version": 3
   },
   "file_extension": ".py",
   "mimetype": "text/x-python",
   "name": "python",
   "nbconvert_exporter": "python",
   "pygments_lexer": "ipython3",
   "version": "3.10.12"
  },
  "orig_nbformat": 4
 },
 "nbformat": 4,
 "nbformat_minor": 2
}
